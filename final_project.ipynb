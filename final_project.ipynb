{
  "metadata": {
    "kernelspec": {
      "name": "python",
      "display_name": "Python (Pyodide)",
      "language": "python"
    },
    "language_info": {
      "codemirror_mode": {
        "name": "python",
        "version": 3
      },
      "file_extension": ".py",
      "mimetype": "text/x-python",
      "name": "python",
      "nbconvert_exporter": "python",
      "pygments_lexer": "ipython3",
      "version": "3.8"
    }
  },
  "nbformat_minor": 5,
  "nbformat": 4,
  "cells": [
    {
      "id": "title-cell",
      "cell_type": "markdown",
      "source": "# My Data Science Project Notebook",
      "metadata": {}
    },
    {
      "id": "intro-cell",
      "cell_type": "markdown",
      "source": "## Introduction\n\nThis notebook is created as the final project for our Data Science course on Skills Network labs using JupyterLite. In this project, we explore various Data Science concepts, tools, and techniques while demonstrating basic Python code for arithmetic operations and unit conversions.",
      "metadata": {}
    },
    {
      "id": "languages-cell",
      "cell_type": "markdown",
      "source": "## Data Science Languages\n\nBelow is an ordered list of common data science programming languages:\n\n1. Python\n2. R\n3. SQL\n4. Julia",
      "metadata": {}
    },
    {
      "id": "libraries-cell",
      "cell_type": "markdown",
      "source": "## Data Science Libraries\n\nHere are some popular libraries used in data science:\n\n1. NumPy\n2. Pandas\n3. Scikit-learn\n4. Matplotlib\n5. Seaborn",
      "metadata": {}
    },
    {
      "id": "tools-cell",
      "cell_type": "markdown",
      "source": "## Data Science Tools\n\n| **Tool Name**       | **Description**                                          | **Example Use**                           |\n|---------------------|----------------------------------------------------------|-------------------------------------------|\n| Jupyter Notebook    | Interactive environment for coding and data visualization| Data exploration and analysis             |\n| GitHub              | Platform for version control and collaboration           | Sharing and collaborating on projects     |\n| Hadoop              | Framework for distributed storage and processing         | Handling large-scale data processing      |\n| Apache Spark        | Engine for large-scale data processing and machine learning| Fast data processing and machine learning   |\n| Tableau             | Data visualization software                              | Creating interactive dashboards           |",
      "metadata": {}
    },
    {
      "id": "arithmetic-intro-cell",
      "cell_type": "markdown",
      "source": "## Arithmetic Expression Examples\n\nBelow, we demonstrate simple arithmetic operations using Python code cells.",
      "metadata": {}
    },
    {
      "id": "multiply-add-cell",
      "cell_type": "code",
      "source": "# Multiply and add numbers\na = 5\nb = 3\nresult = a * b + a  # Calculation: (5 * 3) + 5 = 15 + 5 = 20\nprint(\"Result of multiplication and addition:\", result)",
      "metadata": {
        "trusted": true
      },
      "outputs": [
        {
          "name": "stdout",
          "output_type": "stream",
          "text": "Result of multiplication and addition: 20\n"
        }
      ],
      "execution_count": 1
    },
    {
      "id": "minutes-to-hours-cell",
      "cell_type": "code",
      "source": "# Convert minutes to hours\nminutes = 180\nhours = minutes / 60  \nprint(minutes, \"minutes is equal to\", hours, \"hours\")",
      "metadata": {
        "trusted": true
      },
      "outputs": [
        {
          "name": "stdout",
          "output_type": "stream",
          "text": "180 minutes is equal to 3.0 hours\n"
        }
      ],
      "execution_count": 2
    },
    {
      "id": "objectives-cell",
      "cell_type": "markdown",
      "source": "## Project Objectives\n\n- Understand the primary tools and languages used in Data Science.\n- Demonstrate basic arithmetic and conversion operations using Python.\n- Learn how to create and share a JupyterLite Notebook.\n- Showcase the use of Markdown for documentation and presentation.",
      "metadata": {}
    },
    {
      "id": "author-cell",
      "cell_type": "markdown",
      "source": "## Author Details\n\n**Author:** Gbane Baizeit  \n**Email:**gbanebaizeit@gmail.com",
      "metadata": {}
    }
  ]
}