{
 "cells": [
  {
   "cell_type": "markdown",
   "id": "7fbcad40",
   "metadata": {},
   "source": [
    "# Extracting and Visualizing Stock Data Notebook\n",
    "\n",
    "This notebook demonstrates how to extract and visualize stock and revenue data for Tesla and GameStop. It uses **yfinance** to fetch historical stock data and web scraping with **BeautifulSoup** and **pandas** to extract quarterly revenue data from Macrotrends. Finally, the notebook uses **Plotly** to create interactive dashboards."
   ]
  },
  {
   "cell_type": "code",
   "execution_count": null,
   "id": "5eac3a72",
   "metadata": {},
   "outputs": [],
   "source": [
    "# Install necessary libraries \n",
    "!pip install yfinance\n",
    "!pip install bs4\n",
    "!pip install plotly\n",
    "!pip install pandas\n",
    "!pip install requests"
   ]
  },
  {
   "cell_type": "code",
   "execution_count": null,
   "id": "2c1ea4c8",
   "metadata": {},
   "outputs": [],
   "source": [
    "# Import required libraries\n",
    "import yfinance as yf\n",
    "import pandas as pd\n",
    "import requests\n",
    "from bs4 import BeautifulSoup\n",
    "import plotly.graph_objects as go\n",
    "from plotly.subplots import make_subplots\n",
    "\n",
    "# Define the graphing function\n",
    "def make_graph(stock_data, revenue_data, stock):\n",
    "    fig = make_subplots(\n",
    "        rows=2, cols=1, shared_xaxes=True, \n",
    "        subplot_titles=(\"Historical Share Price\", \"Historical Revenue\"),\n",
    "        vertical_spacing=0.3\n",
    "    )\n",
    "    \n",
    "    fig.add_trace(\n",
    "        go.Scatter(\n",
    "            x=pd.to_datetime(stock_data['Date'], infer_datetime_format=True), \n",
    "            y=stock_data['Close'].astype('float'), \n",
    "            name=\"Share Price\"\n",
    "        ), \n",
    "        row=1, col=1\n",
    "    )\n",
    "    \n",
    "    fig.add_trace(\n",
    "        go.Scatter(\n",
    "            x=pd.to_datetime(revenue_data['Date'], infer_datetime_format=True), \n",
    "            y=revenue_data['Revenue'].astype('float'), \n",
    "            name=\"Revenue\"\n",
    "        ), \n",
    "        row=2, col=1\n",
    "    )\n",
    "    \n",
    "    fig.update_xaxes(title_text=\"Date\", row=1, col=1)\n",
    "    fig.update_xaxes(title_text=\"Date\", row=2, col=1)\n",
    "    fig.update_yaxes(title_text=\"Price ($US)\", row=1, col=1)\n",
    "    fig.update_yaxes(title_text=\"Revenue ($US Millions)\", row=2, col=1)\n",
    "    fig.update_layout(\n",
    "        showlegend=False,\n",
    "        height=900,\n",
    "        title=stock,\n",
    "        xaxis_rangeslider_visible=True\n",
    "    )\n",
    "    fig.show()"
   ]
  },
  {
   "cell_type": "markdown",
   "id": "b50d4a51",
   "metadata": {},
   "source": [
    "## Question 1: Extract Tesla Stock Data Using yfinance\n",
    "\n",
    "We create a ticker object for Tesla (symbol **TSLA**) and extract its maximum historical stock data using yfinance. Then we reset the index and display the first five rows."
   ]
  },
  {
   "cell_type": "code",
   "execution_count": null,
   "id": "09e36040",
   "metadata": {},
   "outputs": [],
   "source": [
    "# Create the ticker object for Tesla\n",
    "tesla = yf.Ticker(\"TSLA\")\n",
    "\n",
    "# Extract the maximum historical stock data\n",
    "tesla_data = tesla.history(period=\"max\")\n",
    "\n",
    "# Reset the index and display the first five rows\n",
    "tesla_data.reset_index(inplace=True)\n",
    "print(tesla_data.head())"
   ]
  },
  {
   "cell_type": "markdown",
   "id": "26c1b47b",
   "metadata": {},
   "source": [
    "## Question 2: Extract Tesla Revenue Data Using Web Scraping\n",
    "\n",
    "We scrape Tesla's quarterly revenue data from Macrotrends using the requests library and BeautifulSoup. We then clean the data by removing commas and dollar signs, rename the columns, and drop any missing values."
   ]
  },
  {
   "cell_type": "code",
   "execution_count": null,
   "id": "d2a3fe46",
   "metadata": {},
   "outputs": [],
   "source": [
    "\n",
    "# URL for Tesla revenue data\n",
    "url = \"https://www.macrotrends.net/stocks/charts/TSLA/tesla/revenue\"\n",
    "\n",
    "# Define custom headers to mimic a browser\n",
    "headers = {\n",
    "    \"User-Agent\": \"Mozilla/5.0 (Windows NT 10.0; Win64; x64) AppleWebKit/537.36 (KHTML, like Gecko) Chrome/115.0.0.0 Safari/537.36\"\n",
    "}\n",
    "\n",
    "# Download the webpage data with custom headers\n",
    "html_data = requests.get(url, headers=headers).text\n",
    "\n",
    "# Parse the HTML data using BeautifulSoup\n",
    "soup = BeautifulSoup(html_data, \"html5lib\")\n",
    "\n",
    "# Extract the table from the fetched HTML content\n",
    "tesla_revenue = pd.read_html(html_data, match=\"Tesla Quarterly Revenue\", flavor='bs4')[0]\n",
    "\n",
    "# Strip any extra spaces from column names and print them for inspection\n",
    "tesla_revenue.columns = [col.strip() for col in tesla_revenue.columns]\n",
    "print(\"Columns before renaming:\", tesla_revenue.columns)\n",
    "\n",
    "# Update the rename mapping based on the actual column names\n",
    "tesla_revenue = tesla_revenue.rename(columns={\n",
    "    'Tesla Quarterly Revenue (Millions of US $)': 'Date',\n",
    "    'Tesla Quarterly Revenue (Millions of US $).1': 'Revenue'\n",
    "})\n",
    "\n",
    "# Print columns after renaming to verify the change\n",
    "print(\"Columns after renaming:\", tesla_revenue.columns)\n",
    "\n",
    "# Clean the Revenue column by removing commas and dollar signs\n",
    "tesla_revenue[\"Revenue\"] = tesla_revenue[\"Revenue\"].str.replace(\",\", \"\").str.replace(\"$\", \"\")\n",
    "\n",
    "# Remove rows with missing Revenue values\n",
    "tesla_revenue.dropna(inplace=True)\n",
    "\n",
    "# Display the last five rows of the Tesla revenue data\n",
    "print(tesla_revenue.tail())\n"
   ]
  },
  {
   "cell_type": "markdown",
   "id": "105fdb38",
   "metadata": {},
   "source": [
    "## Question 3: Extract GameStop Stock Data Using yfinance\n",
    "\n",
    "We create a ticker object for GameStop (symbol **GME**) and extract its maximum historical stock data. Then we reset the index and display the first five rows."
   ]
  },
  {
   "cell_type": "code",
   "execution_count": null,
   "id": "cc6e8983",
   "metadata": {},
   "outputs": [],
   "source": [
    "# Create the ticker object for GameStop\n",
    "gamestop = yf.Ticker(\"GME\")\n",
    "\n",
    "# Extract the maximum historical stock data\n",
    "gme_data = gamestop.history(period=\"max\")\n",
    "\n",
    "# Reset the index and display the first five rows\n",
    "gme_data.reset_index(inplace=True)\n",
    "print(gme_data.head())"
   ]
  },
  {
   "cell_type": "markdown",
   "id": "a0d7c473",
   "metadata": {},
   "source": [
    "## Question 4: Extract GameStop Revenue Data Using Web Scraping\n",
    "\n",
    "We scrape GameStop's quarterly revenue data from Macrotrends. After parsing the HTML, we extract the revenue table, clean the data by removing commas and dollar signs, rename the columns, and drop any missing values."
   ]
  },
  {
   "cell_type": "code",
   "execution_count": null,
   "id": "742955be",
   "metadata": {},
   "outputs": [],
   "source": [
    "# URL for GameStop revenue data\n",
    "url = \"https://www.macrotrends.net/stocks/charts/GME/gamestop/revenue\"\n",
    "\n",
    "# Define custom headers to mimic a browser\n",
    "headers = {\n",
    "    \"User-Agent\": \"Mozilla/5.0 (Windows NT 10.0; Win64; x64) AppleWebKit/537.36 (KHTML, like Gecko) Chrome/115.0.0.0 Safari/537.36\"\n",
    "}\n",
    "\n",
    "# Download the webpage data with custom headers\n",
    "html_data = requests.get(url, headers=headers).text\n",
    "\n",
    "# Parse the HTML data using BeautifulSoup\n",
    "soup = BeautifulSoup(html_data, \"html5lib\")\n",
    "\n",
    "# Extract the table from the fetched HTML content (not directly from the URL)\n",
    "gme_revenue = pd.read_html(html_data, match=\"GameStop Quarterly Revenue\", flavor='bs4')[0]\n",
    "\n",
    "# Optional: Inspect and clean column names\n",
    "gme_revenue.columns = [col.strip() for col in gme_revenue.columns]\n",
    "print(\"Columns before renaming:\", gme_revenue.columns)\n",
    "\n",
    "# Adjust the column names in the rename mapping to match exactly the fetched headers\n",
    "gme_revenue = gme_revenue.rename(columns={\n",
    "    'GameStop Quarterly Revenue (Millions of US $)': 'Date',\n",
    "    'GameStop Quarterly Revenue (Millions of US $).1': 'Revenue'\n",
    "}, inplace=False)\n",
    "print(\"Columns after renaming:\", gme_revenue.columns)\n",
    "\n",
    "# Clean the Revenue column by removing commas and dollar signs\n",
    "gme_revenue[\"Revenue\"] = gme_revenue[\"Revenue\"].str.replace(\",\", \"\").str.replace(\"$\", \"\")\n",
    "\n",
    "# Remove rows with missing Revenue values\n",
    "gme_revenue.dropna(inplace=True)\n",
    "\n",
    "# Display the last five rows of the GameStop revenue data\n",
    "print(gme_revenue.tail())"
   ]
  },
  {
   "cell_type": "markdown",
   "id": "d4e55e3a",
   "metadata": {},
   "source": [
    "## Question 5: Plot Tesla Stock and Revenue Dashboard\n",
    "\n",
    "We now use the `make_graph` function to create an interactive dashboard that displays Tesla's historical share price and revenue."
   ]
  },
  {
   "cell_type": "code",
   "execution_count": null,
   "id": "bd32ab20",
   "metadata": {},
   "outputs": [],
   "source": [
    "# Plot the dashboard for Tesla\n",
    "make_graph(tesla_data, tesla_revenue, 'Tesla Stock Data Graph')"
   ]
  },
  {
   "cell_type": "markdown",
   "id": "ca74c8f8",
   "metadata": {},
   "source": [
    "## Question 6: Plot GameStop Stock and Revenue Dashboard\n",
    "\n",
    "Similarly, we plot GameStop's stock and revenue data using the `make_graph` function."
   ]
  },
  {
   "cell_type": "code",
   "execution_count": null,
   "id": "fe5f29dd",
   "metadata": {},
   "outputs": [],
   "source": [
    "# Plot the dashboard for GameStop\n",
    "make_graph(gme_data, gme_revenue, 'GameStop Stock Data Graph')"
   ]
  }
 ],
 "metadata": {
  "kernelspec": {
   "display_name": "Python 3",
   "language": "python",
   "name": "python3"
  },
  "language_info": {
   "codemirror_mode": {
    "name": "ipython",
    "version": 3
   },
   "file_extension": ".py",
   "mimetype": "text/x-python",
   "name": "python",
   "nbconvert_exporter": "python",
   "pygments_lexer": "ipython3",
   "version": "3.12.0"
  }
 },
 "nbformat": 4,
 "nbformat_minor": 5
}
